{
 "cells": [
  {
   "cell_type": "markdown",
   "metadata": {},
   "source": [
    "# University-Industry Collaboration: Article Processing\n",
    "\n",
    "This script prepares metadata from the Scopus database for analysis in VOSviewer.  It performs basic data cleaning (e.g. remove duplicates; non-English articles; drop articles with no data in title, abstract, keywords), higher-level filtering (e.g. select articles based on keywords), and article classification (e.g. classify articles based on author affiliation and funding source).\n",
    "\n",
    "+ **Input data:** Scopus metadata in csv format  \n",
    "+ **Output data:** Processed Scopus metadata in csv format for analysis in VOSviewer\n",
    "\n",
    "\n",
    "Developed by Tyler Reinmund  \n",
    "Date: 15 June 2021\n",
    "\n",
    "Department of Science and Technology Studies  \n",
    "University College London"
   ]
  },
  {
   "cell_type": "code",
   "execution_count": 1,
   "metadata": {},
   "outputs": [],
   "source": [
    "# Import libraries\n",
    "import glob\n",
    "import pandas as pd\n",
    "import numpy as np\n",
    "import re\n",
    "import string\n",
    "import sys\n",
    "import os\n",
    "import seaborn as sns\n",
    "import matplotlib.pyplot as plt\n",
    "from cycler import cycler"
   ]
  },
  {
   "cell_type": "code",
   "execution_count": 2,
   "metadata": {},
   "outputs": [
    {
     "name": "stderr",
     "output_type": "stream",
     "text": [
      "C:\\Users\\trein\\Anaconda3\\lib\\site-packages\\IPython\\core\\interactiveshell.py:3058: DtypeWarning: Columns (3,7,8,9,10,11,19,20,21,22,26,34,37) have mixed types. Specify dtype option on import or set low_memory=False.\n",
      "  interactivity=interactivity, compiler=compiler, result=result)\n"
     ]
    }
   ],
   "source": [
    "# Load the pre-processed data retrieved from the ID search\n",
    "\n",
    "id_path = '' # Adjust file path\n",
    "all_files = glob.glob(id_path + \"/*.csv\") # Adjust file name\n",
    "li = []\n",
    "\n",
    "for filename in all_files:\n",
    "    frame = pd.read_csv(filename, index_col=None, header=0)\n",
    "    li.append(frame)\n",
    "    \n",
    "df = pd.concat(li, axis=0, ignore_index=True, sort=False)"
   ]
  },
  {
   "cell_type": "code",
   "execution_count": 3,
   "metadata": {},
   "outputs": [
    {
     "data": {
      "text/plain": [
       "['Authors',\n",
       " 'Author(s) ID',\n",
       " 'Title',\n",
       " 'Year',\n",
       " 'Source title',\n",
       " 'Volume',\n",
       " 'Issue',\n",
       " 'Art. No.',\n",
       " 'Page start',\n",
       " 'Page end',\n",
       " 'Page count',\n",
       " 'Cited by',\n",
       " 'DOI',\n",
       " 'Link',\n",
       " 'Affiliations',\n",
       " 'Authors with affiliations',\n",
       " 'Abstract',\n",
       " 'Author Keywords',\n",
       " 'Index Keywords',\n",
       " 'Molecular Sequence Numbers',\n",
       " 'Chemicals/CAS',\n",
       " 'Tradenames',\n",
       " 'Manufacturers',\n",
       " 'Funding Details',\n",
       " 'Funding Text 1',\n",
       " 'Funding Text 2',\n",
       " 'Funding Text 3',\n",
       " 'Funding Text 4',\n",
       " 'References',\n",
       " 'Correspondence Address',\n",
       " 'Editors',\n",
       " 'Sponsors',\n",
       " 'Publisher',\n",
       " 'Conference name',\n",
       " 'Conference date',\n",
       " 'Conference location',\n",
       " 'Conference code',\n",
       " 'ISSN',\n",
       " 'ISBN',\n",
       " 'CODEN',\n",
       " 'PubMed ID',\n",
       " 'Language of Original Document',\n",
       " 'Abbreviated Source Title',\n",
       " 'Document Type',\n",
       " 'Publication Stage',\n",
       " 'Open Access',\n",
       " 'Source',\n",
       " 'EID',\n",
       " 'Funding Text 5',\n",
       " 'Funding Text 6',\n",
       " 'Funding Text 7',\n",
       " 'Funding Text 8',\n",
       " ...]"
      ]
     },
     "execution_count": 3,
     "metadata": {},
     "output_type": "execute_result"
    }
   ],
   "source": [
    "list(df.columns)"
   ]
  },
  {
   "cell_type": "code",
   "execution_count": 3,
   "metadata": {},
   "outputs": [],
   "source": [
    "# Drop 'Unnamed: X' columns\n",
    "df = df[df.columns.drop(list(df.filter(regex='Unnamed')))]"
   ]
  },
  {
   "cell_type": "code",
   "execution_count": 4,
   "metadata": {},
   "outputs": [
    {
     "name": "stdout",
     "output_type": "stream",
     "text": [
      "(37869, 52)\n"
     ]
    },
    {
     "data": {
      "text/plain": [
       "Index(['Authors', 'Author(s) ID', 'Title', 'Year', 'Source title', 'Volume',\n",
       "       'Issue', 'Art. No.', 'Page start', 'Page end', 'Page count', 'Cited by',\n",
       "       'DOI', 'Link', 'Affiliations', 'Authors with affiliations', 'Abstract',\n",
       "       'Author Keywords', 'Index Keywords', 'Molecular Sequence Numbers',\n",
       "       'Chemicals/CAS', 'Tradenames', 'Manufacturers', 'Funding Details',\n",
       "       'Funding Text 1', 'Funding Text 2', 'Funding Text 3', 'Funding Text 4',\n",
       "       'Funding Text 5', 'Funding Text 6', 'Funding Text 7', 'Funding Text 8',\n",
       "       'References', 'Correspondence Address', 'Editors', 'Sponsors',\n",
       "       'Publisher', 'Conference name', 'Conference date',\n",
       "       'Conference location', 'Conference code', 'ISSN', 'ISBN', 'CODEN',\n",
       "       'PubMed ID', 'Language of Original Document',\n",
       "       'Abbreviated Source Title', 'Document Type', 'Publication Stage',\n",
       "       'Open Access', 'Source', 'EID'],\n",
       "      dtype='object')"
      ]
     },
     "execution_count": 4,
     "metadata": {},
     "output_type": "execute_result"
    }
   ],
   "source": [
    "# Reorder columns so \"Funding Text\" columns are together\n",
    "cols = ['Authors', 'Author(s) ID', 'Title', 'Year', 'Source title',\n",
    "        'Volume', 'Issue', 'Art. No.', 'Page start', 'Page end',\n",
    "        'Page count', 'Cited by', 'DOI', 'Link', 'Affiliations',\n",
    "        'Authors with affiliations', 'Abstract', 'Author Keywords',\n",
    "        'Index Keywords', 'Molecular Sequence Numbers', 'Chemicals/CAS',\n",
    "        'Tradenames', 'Manufacturers', 'Funding Details', 'Funding Text 1',\n",
    "        'Funding Text 2', 'Funding Text 3', 'Funding Text 4', 'Funding Text 5',\n",
    "        'Funding Text 6', 'Funding Text 7', 'Funding Text 8', 'References',\n",
    "        'Correspondence Address', 'Editors', 'Sponsors', 'Publisher',\n",
    "        'Conference name', 'Conference date', 'Conference location',\n",
    "        'Conference code', 'ISSN', 'ISBN', 'CODEN', 'PubMed ID',\n",
    "        'Language of Original Document', 'Abbreviated Source Title', 'Document Type',\n",
    "        'Publication Stage', 'Open Access', 'Source', 'EID']\n",
    "\n",
    "# Apply new column order to df\n",
    "df = df[cols]\n",
    "print(df.shape)\n",
    "df.columns"
   ]
  },
  {
   "cell_type": "markdown",
   "metadata": {},
   "source": [
    "## Initial data selection\n",
    "\n",
    "1. Drop articles with no data in title, abstract, or affiliations\n",
    "2. Drop duplicates\n",
    "3. Drop articles with invalid value for Year\n",
    "4. Drop articles written before 2015\n",
    "5. Drop non-English articles"
   ]
  },
  {
   "cell_type": "code",
   "execution_count": 5,
   "metadata": {
    "scrolled": true
   },
   "outputs": [
    {
     "data": {
      "text/plain": [
       "(37494, 52)"
      ]
     },
     "execution_count": 5,
     "metadata": {},
     "output_type": "execute_result"
    }
   ],
   "source": [
    "# Drop articles with NaN in Title, Abstract, Affiliations\n",
    "df_1 = df.dropna(axis=0, subset=['Abstract', 'Title', 'Affiliations'])\n",
    "\n",
    "df_1.shape"
   ]
  },
  {
   "cell_type": "code",
   "execution_count": 6,
   "metadata": {},
   "outputs": [
    {
     "data": {
      "text/plain": [
       "(32471, 52)"
      ]
     },
     "execution_count": 6,
     "metadata": {},
     "output_type": "execute_result"
    }
   ],
   "source": [
    "# Drop articles that are duplicates of Title\n",
    "df_2 = df_1.drop_duplicates(subset=['Title']).reset_index(drop=True)\n",
    "df_2.shape"
   ]
  },
  {
   "cell_type": "code",
   "execution_count": 7,
   "metadata": {},
   "outputs": [
    {
     "name": "stdout",
     "output_type": "stream",
     "text": [
      "(32460, 52)\n"
     ]
    },
    {
     "data": {
      "text/plain": [
       "array([2021., 2020., 2019., 2018., 2017., 2016., 2015., 2014., 2013.,\n",
       "       2012., 2011., 2010., 2009., 2008., 2007., 2006., 2005., 2004.,\n",
       "       2003., 2002., 2001., 2000., 1999., 1998., 1997., 1996., 1995.,\n",
       "       1994., 1993., 1991., 1988., 1986., 1978., 1979., 1981., 1983.,\n",
       "       1985., 1987., 1989., 1990., 1992., 1984., 1980., 1982., 1977.,\n",
       "       1976.])"
      ]
     },
     "execution_count": 7,
     "metadata": {},
     "output_type": "execute_result"
    }
   ],
   "source": [
    "# Drop rows where Year is not a digit\n",
    "df_2['Year'] = pd.to_numeric(df_2['Year'], errors='coerce')\n",
    "df_3 = df_2.dropna(axis=0, subset=['Year'])\n",
    "print(df_3.shape)\n",
    "df_3['Year'].unique()"
   ]
  },
  {
   "cell_type": "code",
   "execution_count": 8,
   "metadata": {},
   "outputs": [
    {
     "data": {
      "text/plain": [
       "<matplotlib.axes._subplots.AxesSubplot at 0x193e912e988>"
      ]
     },
     "execution_count": 8,
     "metadata": {},
     "output_type": "execute_result"
    },
    {
     "data": {
      "image/png": "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\n",
      "text/plain": [
       "<Figure size 432x288 with 1 Axes>"
      ]
     },
     "metadata": {
      "needs_background": "light"
     },
     "output_type": "display_data"
    }
   ],
   "source": [
    "sns.lineplot(data=df_3.groupby('Year').count()['Title'])"
   ]
  },
  {
   "cell_type": "code",
   "execution_count": 8,
   "metadata": {},
   "outputs": [
    {
     "name": "stdout",
     "output_type": "stream",
     "text": [
      "(14135, 52)\n"
     ]
    },
    {
     "data": {
      "text/plain": [
       "array([2021., 2020., 2019., 2018., 2017., 2016., 2015.])"
      ]
     },
     "execution_count": 8,
     "metadata": {},
     "output_type": "execute_result"
    }
   ],
   "source": [
    "# Select articles written after 2015\n",
    "df_4 = df_3[df_3['Year'] >= 2015]\n",
    "print(df_4.shape)\n",
    "df_4['Year'].unique()"
   ]
  },
  {
   "cell_type": "code",
   "execution_count": 9,
   "metadata": {},
   "outputs": [
    {
     "name": "stdout",
     "output_type": "stream",
     "text": [
      "(14020, 52)\n"
     ]
    },
    {
     "data": {
      "text/plain": [
       "array(['English', 'English; German', 'English; Chinese',\n",
       "       'English; Italian', 'English; Portuguese'], dtype=object)"
      ]
     },
     "execution_count": 9,
     "metadata": {},
     "output_type": "execute_result"
    }
   ],
   "source": [
    "# Select articles written in English\n",
    "df_4 = df_4.dropna(axis=0, subset=['Language of Original Document'])\n",
    "df_5 = df_4[df_4['Language of Original Document'].str.contains('English')].reset_index(drop=True)\n",
    "print(df_5.shape)\n",
    "df_5['Language of Original Document'].unique()"
   ]
  },
  {
   "cell_type": "markdown",
   "metadata": {},
   "source": [
    "# Secondary data selection\n",
    "\n",
    "1. Filter articles based on keyword search\n",
    "2. Classify articles as industry or non-industry affiliated"
   ]
  },
  {
   "cell_type": "code",
   "execution_count": 10,
   "metadata": {},
   "outputs": [],
   "source": [
    "# Create list of AI ethics keywords to query dataset\n",
    "ethics_regex = ('accountab[a-z]*|safety|ethic[a-z]*|bias[a-z]*|business model|explaina[a-z]*|fair\\b|fairness|privacy|secur[a-z]*|sustainab[a-z]*|regulation|legislation|transparen[a-z]*')"
   ]
  },
  {
   "cell_type": "code",
   "execution_count": 11,
   "metadata": {},
   "outputs": [
    {
     "data": {
      "text/plain": [
       "(3356, 52)"
      ]
     },
     "execution_count": 11,
     "metadata": {},
     "output_type": "execute_result"
    }
   ],
   "source": [
    "# Select the rows that match the AI ethics keywords in Title, Abstract, or Author Keywords column\n",
    "mask = df_5[['Title', 'Abstract', 'Author Keywords']].apply(lambda x: x.str.contains(ethics_regex, regex=True, flags=re.IGNORECASE))\n",
    "df_6 = df_5[mask.any(axis=1)]\n",
    "df_6.shape"
   ]
  },
  {
   "cell_type": "code",
   "execution_count": 12,
   "metadata": {},
   "outputs": [],
   "source": [
    "# Load AIES, FATML, and FAccT publications\n",
    "conf_path = '' # Adjust file path\n",
    "all_files = glob.glob(conf_path + \"/*.csv\")\n",
    "li = []\n",
    "\n",
    "for filename in all_files:\n",
    "    frame = pd.read_csv(filename, index_col=None, header=0)\n",
    "    li.append(frame)\n",
    "    \n",
    "df_conf = pd.concat(li, axis=0, ignore_index=True, sort=False)"
   ]
  },
  {
   "cell_type": "code",
   "execution_count": 13,
   "metadata": {},
   "outputs": [
    {
     "name": "stdout",
     "output_type": "stream",
     "text": [
      "(363, 452)\n"
     ]
    },
    {
     "data": {
      "text/plain": [
       "array([2021., 2020., 2019., 2018.])"
      ]
     },
     "execution_count": 13,
     "metadata": {},
     "output_type": "execute_result"
    }
   ],
   "source": [
    "# Remove articles without Title, affiliations, or abstracts\n",
    "df_conf = df_conf.dropna(axis=0, subset=['Abstract', 'Title', 'Author Keywords', 'Authors', 'Author(s) ID'])\n",
    "\n",
    "# Drop articles that are duplicates of Title\n",
    "df_conf = df_conf.drop_duplicates(subset=['Title']).reset_index(drop=True)\n",
    "\n",
    "# Drop rows where Year is not a digit\n",
    "df_conf['Year'] = pd.to_numeric(df_2['Year'], errors='coerce')\n",
    "df_conf = df_conf.dropna(axis=0, subset=['Year'])\n",
    "print(df_conf.shape)\n",
    "df_conf['Year'].unique()"
   ]
  },
  {
   "cell_type": "code",
   "execution_count": 15,
   "metadata": {},
   "outputs": [
    {
     "data": {
      "text/plain": [
       "['Authors',\n",
       " 'Author(s) ID',\n",
       " 'Title',\n",
       " 'Year',\n",
       " 'Source title',\n",
       " 'Volume',\n",
       " 'Issue',\n",
       " 'Art. No.',\n",
       " 'Page start',\n",
       " 'Page end',\n",
       " 'Page count',\n",
       " 'Cited by',\n",
       " 'DOI',\n",
       " 'Link',\n",
       " 'Affiliations',\n",
       " 'Authors with affiliations',\n",
       " 'Abstract',\n",
       " 'Author Keywords',\n",
       " 'Index Keywords',\n",
       " 'Molecular Sequence Numbers',\n",
       " 'Chemicals/CAS',\n",
       " 'Tradenames',\n",
       " 'Manufacturers',\n",
       " 'Funding Details',\n",
       " 'Funding Text 1',\n",
       " 'Funding Text 2',\n",
       " 'References',\n",
       " 'Correspondence Address',\n",
       " 'Editors',\n",
       " 'Sponsors',\n",
       " 'Publisher',\n",
       " 'Conference name',\n",
       " 'Conference date',\n",
       " 'Conference location',\n",
       " 'Conference code',\n",
       " 'ISSN',\n",
       " 'ISBN',\n",
       " 'CODEN',\n",
       " 'PubMed ID',\n",
       " 'Language of Original Document',\n",
       " 'Abbreviated Source Title',\n",
       " 'Document Type',\n",
       " 'Publication Stage',\n",
       " 'Open Access',\n",
       " 'Source',\n",
       " 'EID',\n",
       " 'Unnamed: 46',\n",
       " 'Unnamed: 47',\n",
      ]
     },
     "execution_count": 15,
     "metadata": {},
     "output_type": "execute_result"
    }
   ],
   "source": [
    "list(df_conf.columns)"
   ]
  },
  {
   "cell_type": "code",
   "execution_count": 14,
   "metadata": {},
   "outputs": [],
   "source": [
    "# Drop 'Unnamed: X' columns\n",
    "df_conf = df_conf[df_conf.columns.drop(list(df_conf.filter(regex='Unnamed')))]"
   ]
  },
  {
   "cell_type": "code",
   "execution_count": 17,
   "metadata": {},
   "outputs": [
    {
     "data": {
      "text/plain": [
       "['Authors',\n",
       " 'Author(s) ID',\n",
       " 'Title',\n",
       " 'Year',\n",
       " 'Source title',\n",
       " 'Volume',\n",
       " 'Issue',\n",
       " 'Art. No.',\n",
       " 'Page start',\n",
       " 'Page end',\n",
       " 'Page count',\n",
       " 'Cited by',\n",
       " 'DOI',\n",
       " 'Link',\n",
       " 'Affiliations',\n",
       " 'Authors with affiliations',\n",
       " 'Abstract',\n",
       " 'Author Keywords',\n",
       " 'Index Keywords',\n",
       " 'Molecular Sequence Numbers',\n",
       " 'Chemicals/CAS',\n",
       " 'Tradenames',\n",
       " 'Manufacturers',\n",
       " 'Funding Details',\n",
       " 'Funding Text 1',\n",
       " 'Funding Text 2',\n",
       " 'References',\n",
       " 'Correspondence Address',\n",
       " 'Editors',\n",
       " 'Sponsors',\n",
       " 'Publisher',\n",
       " 'Conference name',\n",
       " 'Conference date',\n",
       " 'Conference location',\n",
       " 'Conference code',\n",
       " 'ISSN',\n",
       " 'ISBN',\n",
       " 'CODEN',\n",
       " 'PubMed ID',\n",
       " 'Language of Original Document',\n",
       " 'Abbreviated Source Title',\n",
       " 'Document Type',\n",
       " 'Publication Stage',\n",
       " 'Open Access',\n",
       " 'Source',\n",
       " 'EID']"
      ]
     },
     "execution_count": 17,
     "metadata": {},
     "output_type": "execute_result"
    }
   ],
   "source": [
    "list(df_conf.columns)"
   ]
  },
  {
   "cell_type": "code",
   "execution_count": 15,
   "metadata": {},
   "outputs": [
    {
     "data": {
      "text/plain": [
       "(3424, 47)"
      ]
     },
     "execution_count": 15,
     "metadata": {},
     "output_type": "execute_result"
    }
   ],
   "source": [
    "# Concatenate the articles published in AI ethics conferences and those identified in keyword search\n",
    "df_full = pd.concat([df_6, df_conf], axis=0, ignore_index=True, sort=False)\n",
    "\n",
    "# Funding Text 4 - 8 columns are empty, so drop them\n",
    "df_full = df_full.drop(columns=['Funding Text 4', 'Funding Text 5', 'Funding Text 6', 'Funding Text 7', 'Funding Text 8'])\n",
    "\n",
    "# Drop title duplicates\n",
    "df_full = df_full.drop_duplicates(subset=['Title']).reset_index(drop=True)\n",
    "df_full.shape"
   ]
  },
  {
   "cell_type": "markdown",
   "metadata": {},
   "source": [
    "## Categorise articles by industry affiliation"
   ]
  },
  {
   "cell_type": "code",
   "execution_count": 16,
   "metadata": {},
   "outputs": [],
   "source": [
    "# Create a regex for industry-affiliation\n",
    "industry_regex = ('Accenture|Adobe|Alibaba|Amazon|\\bAWS\\b|Apple|Booz Allen|Bosch|DeepMind|Facebook|Google|Huawei|IBM|Intel\\b|Jigsaw|Microsoft|Nvidia|OpenAI|Partnership on AI|Upturn|Salesforce|Samsung|SAP|Sony|Spotify|Tata Consultancy|Tencent|Uber')"
   ]
  },
  {
   "cell_type": "code",
   "execution_count": 17,
   "metadata": {},
   "outputs": [
    {
     "data": {
      "text/plain": [
       "(603, 47)"
      ]
     },
     "execution_count": 17,
     "metadata": {},
     "output_type": "execute_result"
    }
   ],
   "source": [
    "# Select the rows that have industry names in Affiliations, Funding Text columns\n",
    "mask = df_full[['Affiliations', 'Funding Details','Funding Text 1', 'Funding Text 2', 'Funding Text 3']].apply(lambda x: x.str.contains(industry_regex, regex=True))\n",
    "df_industry = df_full[mask.any(axis=1)]\n",
    "df_industry.shape"
   ]
  },
  {
   "cell_type": "code",
   "execution_count": 18,
   "metadata": {},
   "outputs": [
    {
     "data": {
      "text/plain": [
       "(2821, 47)"
      ]
     },
     "execution_count": 18,
     "metadata": {},
     "output_type": "execute_result"
    }
   ],
   "source": [
    "# Select articles that do not have industry names in Affiliations or Funding Text columns\n",
    "df_nonindustry = df_full[~mask.any(axis=1)]\n",
    "df_nonindustry.shape"
   ]
  },
  {
   "cell_type": "code",
   "execution_count": 42,
   "metadata": {},
   "outputs": [],
   "source": [
    "# Save dataframes to CSV for manual review and VOSviewer analysis\n",
    "df_industry.to_csv(os.path.join(''), encoding='utf-8-sig') # Adjust file path\n",
    "df_nonindustry.to_csv(os.path.join('') # Adjust file path"
   ]
  },
  {
   "cell_type": "markdown",
   "metadata": {},
   "source": [
    "## Descriptive analysis of the data\n",
    "\n",
    "1. Create chart of non-industry and industry affiliated documents over time\n",
    "2. Average number of citations per document"
   ]
  },
  {
   "cell_type": "code",
   "execution_count": 2,
   "metadata": {},
   "outputs": [],
   "source": [
    "# Load manually reviewed data\n",
    "reviewed_path = '' # Adjust file path\n",
    "df_nonindustry = pd.read_csv(os.path.join(reviewed_path, ''), engine='python') # Adjust file name\n",
    "df_industry = pd.read_csv(os.path.join(reviewed_path, ''), engine='python') # Adjust file name"
   ]
  },
  {
   "cell_type": "code",
   "execution_count": 3,
   "metadata": {},
   "outputs": [],
   "source": [
    "# Create affiliation columns for each data frame\n",
    "df_nonindustry['Affiliation'] = 'Non-industry'\n",
    "df_industry['Affiliation'] = 'Industry'"
   ]
  },
  {
   "cell_type": "code",
   "execution_count": 4,
   "metadata": {},
   "outputs": [
    {
     "data": {
      "text/plain": [
       "(1419, 53)"
      ]
     },
     "execution_count": 4,
     "metadata": {},
     "output_type": "execute_result"
    }
   ],
   "source": [
    "# Merge back into full dataframe with new affiliation column\n",
    "df_reviewed = pd.concat([df_industry, df_nonindustry], axis=0, ignore_index=True, sort=False)\n",
    "df_reviewed.shape"
   ]
  },
  {
   "cell_type": "code",
   "execution_count": 12,
   "metadata": {},
   "outputs": [
    {
     "data": {
      "text/html": [
       "<div>\n",
       "<style scoped>\n",
       "    .dataframe tbody tr th:only-of-type {\n",
       "        vertical-align: middle;\n",
       "    }\n",
       "\n",
       "    .dataframe tbody tr th {\n",
       "        vertical-align: top;\n",
       "    }\n",
       "\n",
       "    .dataframe thead th {\n",
       "        text-align: right;\n",
       "    }\n",
       "</style>\n",
       "<table border=\"1\" class=\"dataframe\">\n",
       "  <thead>\n",
       "    <tr style=\"text-align: right;\">\n",
       "      <th>Affiliation</th>\n",
       "      <th>Industry</th>\n",
       "      <th>Non-industry</th>\n",
       "    </tr>\n",
       "    <tr>\n",
       "      <th>Year</th>\n",
       "      <th></th>\n",
       "      <th></th>\n",
       "    </tr>\n",
       "  </thead>\n",
       "  <tbody>\n",
       "    <tr>\n",
       "      <td>2015.0</td>\n",
       "      <td>8</td>\n",
       "      <td>32</td>\n",
       "    </tr>\n",
       "    <tr>\n",
       "      <td>2016.0</td>\n",
       "      <td>21</td>\n",
       "      <td>88</td>\n",
       "    </tr>\n",
       "    <tr>\n",
       "      <td>2017.0</td>\n",
       "      <td>29</td>\n",
       "      <td>124</td>\n",
       "    </tr>\n",
       "    <tr>\n",
       "      <td>2018.0</td>\n",
       "      <td>51</td>\n",
       "      <td>211</td>\n",
       "    </tr>\n",
       "    <tr>\n",
       "      <td>2019.0</td>\n",
       "      <td>106</td>\n",
       "      <td>266</td>\n",
       "    </tr>\n",
       "    <tr>\n",
       "      <td>2020.0</td>\n",
       "      <td>114</td>\n",
       "      <td>236</td>\n",
       "    </tr>\n",
       "    <tr>\n",
       "      <td>2021.0</td>\n",
       "      <td>38</td>\n",
       "      <td>90</td>\n",
       "    </tr>\n",
       "  </tbody>\n",
       "</table>\n",
       "</div>"
      ],
      "text/plain": [
       "Affiliation  Industry  Non-industry\n",
       "Year                               \n",
       "2015.0              8            32\n",
       "2016.0             21            88\n",
       "2017.0             29           124\n",
       "2018.0             51           211\n",
       "2019.0            106           266\n",
       "2020.0            114           236\n",
       "2021.0             38            90"
      ]
     },
     "execution_count": 12,
     "metadata": {},
     "output_type": "execute_result"
    }
   ],
   "source": [
    "# Group by year and affiliation for plot\n",
    "g = df_reviewed.groupby(['Year', 'Affiliation']).count()['Title']\n",
    "g.unstack()"
   ]
  },
  {
   "cell_type": "code",
   "execution_count": 17,
   "metadata": {},
   "outputs": [
    {
     "data": {
      "text/html": [
       "<div>\n",
       "<style scoped>\n",
       "    .dataframe tbody tr th:only-of-type {\n",
       "        vertical-align: middle;\n",
       "    }\n",
       "\n",
       "    .dataframe tbody tr th {\n",
       "        vertical-align: top;\n",
       "    }\n",
       "\n",
       "    .dataframe thead th {\n",
       "        text-align: right;\n",
       "    }\n",
       "</style>\n",
       "<table border=\"1\" class=\"dataframe\">\n",
       "  <thead>\n",
       "    <tr style=\"text-align: right;\">\n",
       "      <th></th>\n",
       "      <th></th>\n",
       "      <th>Title</th>\n",
       "    </tr>\n",
       "    <tr>\n",
       "      <th>Year</th>\n",
       "      <th>Affiliation</th>\n",
       "      <th></th>\n",
       "    </tr>\n",
       "  </thead>\n",
       "  <tbody>\n",
       "    <tr>\n",
       "      <td rowspan=\"2\" valign=\"top\">2015.0</td>\n",
       "      <td>Industry</td>\n",
       "      <td>8</td>\n",
       "    </tr>\n",
       "    <tr>\n",
       "      <td>Non-industry</td>\n",
       "      <td>32</td>\n",
       "    </tr>\n",
       "    <tr>\n",
       "      <td rowspan=\"2\" valign=\"top\">2016.0</td>\n",
       "      <td>Industry</td>\n",
       "      <td>21</td>\n",
       "    </tr>\n",
       "    <tr>\n",
       "      <td>Non-industry</td>\n",
       "      <td>88</td>\n",
       "    </tr>\n",
       "    <tr>\n",
       "      <td rowspan=\"2\" valign=\"top\">2017.0</td>\n",
       "      <td>Industry</td>\n",
       "      <td>29</td>\n",
       "    </tr>\n",
       "    <tr>\n",
       "      <td>Non-industry</td>\n",
       "      <td>124</td>\n",
       "    </tr>\n",
       "    <tr>\n",
       "      <td rowspan=\"2\" valign=\"top\">2018.0</td>\n",
       "      <td>Industry</td>\n",
       "      <td>51</td>\n",
       "    </tr>\n",
       "    <tr>\n",
       "      <td>Non-industry</td>\n",
       "      <td>211</td>\n",
       "    </tr>\n",
       "    <tr>\n",
       "      <td rowspan=\"2\" valign=\"top\">2019.0</td>\n",
       "      <td>Industry</td>\n",
       "      <td>106</td>\n",
       "    </tr>\n",
       "    <tr>\n",
       "      <td>Non-industry</td>\n",
       "      <td>266</td>\n",
       "    </tr>\n",
       "    <tr>\n",
       "      <td rowspan=\"2\" valign=\"top\">2020.0</td>\n",
       "      <td>Industry</td>\n",
       "      <td>114</td>\n",
       "    </tr>\n",
       "    <tr>\n",
       "      <td>Non-industry</td>\n",
       "      <td>236</td>\n",
       "    </tr>\n",
       "    <tr>\n",
       "      <td rowspan=\"2\" valign=\"top\">2021.0</td>\n",
       "      <td>Industry</td>\n",
       "      <td>38</td>\n",
       "    </tr>\n",
       "    <tr>\n",
       "      <td>Non-industry</td>\n",
       "      <td>90</td>\n",
       "    </tr>\n",
       "  </tbody>\n",
       "</table>\n",
       "</div>"
      ],
      "text/plain": [
       "                     Title\n",
       "Year   Affiliation        \n",
       "2015.0 Industry          8\n",
       "       Non-industry     32\n",
       "2016.0 Industry         21\n",
       "       Non-industry     88\n",
       "2017.0 Industry         29\n",
       "       Non-industry    124\n",
       "2018.0 Industry         51\n",
       "       Non-industry    211\n",
       "2019.0 Industry        106\n",
       "       Non-industry    266\n",
       "2020.0 Industry        114\n",
       "       Non-industry    236\n",
       "2021.0 Industry         38\n",
       "       Non-industry     90"
      ]
     },
     "execution_count": 17,
     "metadata": {},
     "output_type": "execute_result"
    }
   ],
   "source": [
    "df_reviewed.groupby(['Year', 'Affiliation']).agg({'Title' : 'count'})"
   ]
  },
  {
   "cell_type": "code",
   "execution_count": 20,
   "metadata": {},
   "outputs": [
    {
     "data": {
      "image/png": "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\n",
      "text/plain": [
       "<Figure size 432x288 with 1 Axes>"
      ]
     },
     "metadata": {},
     "output_type": "display_data"
    }
   ],
   "source": [
    "# Create lineplot\n",
    "\n",
    "plt.rc('axes', prop_cycle=(cycler('color', ['black', 'blue'])))\n",
    "\n",
    "with plt.style.context('seaborn-white'):\n",
    "    g.unstack().plot()\n",
    "    plt.title('AI ethics documents by affiliation')\n",
    "    plt.xlabel('Year')\n",
    "    plt.ylabel('No. of documents')\n",
    "plt.show()"
   ]
  },
  {
   "cell_type": "code",
   "execution_count": 72,
   "metadata": {},
   "outputs": [
    {
     "data": {
      "text/plain": [
       "Affiliation\n",
       "Industry        13.643052\n",
       "Non-industry    14.071633\n",
       "dtype: float64"
      ]
     },
     "execution_count": 72,
     "metadata": {},
     "output_type": "execute_result"
    }
   ],
   "source": [
    "# Average citations per document\n",
    "g2 = df_full.groupby('Affiliation')\n",
    "g2.apply(lambda x: x['Cited by'].sum() / x['Title'].count())"
   ]
  },
  {
   "cell_type": "code",
   "execution_count": null,
   "metadata": {},
   "outputs": [],
   "source": []
  }
 ],
 "metadata": {
  "kernelspec": {
   "display_name": "Python 3",
   "language": "python",
   "name": "python3"
  },
  "language_info": {
   "codemirror_mode": {
    "name": "ipython",
    "version": 3
   },
   "file_extension": ".py",
   "mimetype": "text/x-python",
   "name": "python",
   "nbconvert_exporter": "python",
   "pygments_lexer": "ipython3",
   "version": "3.7.4"
  }
 },
 "nbformat": 4,
 "nbformat_minor": 2
}
