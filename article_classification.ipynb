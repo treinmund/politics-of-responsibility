{
 "cells": [
  {
   "cell_type": "markdown",
   "metadata": {},
   "source": [
    "# University-Industry Collaboration: Article Processing\n",
    "\n",
    "This script prepares metadata from the Scopus database for analysis in VOSviewer.  It performs basic data cleaning (e.g. remove duplicates; non-English articles; drop articles with no data in title, abstract, keywords), higher-level filtering (e.g. select articles based on keywords), and article classification (e.g. classify articles based on author affiliation and funding source).\n",
    "\n",
    "+ **Input data:** Scopus metadata in csv format  \n",
    "+ **Output data:** Processed Scopus metadata in csv format for analysis in VOSviewer\n",
    "\n",
    "\n",
    "Developed by Tyler Reinmund  \n",
    "Date: 15 June 2021\n",
    "\n",
    "Department of Science and Technology Studies  \n",
    "University College London"
   ]
  },
  {
   "cell_type": "code",
   "execution_count": 2,
   "metadata": {},
   "outputs": [],
   "source": [
    "# Import libraries\n",
    "import glob\n",
    "import pandas as pd\n",
    "import numpy as np\n",
    "import re\n",
    "import string\n",
    "import sys\n",
    "import os\n",
    "import seaborn as sns\n",
    "import matplotlib.pyplot as plt"
   ]
  },
  {
   "cell_type": "code",
   "execution_count": 5,
   "metadata": {},
   "outputs": [
    {
     "name": "stderr",
     "output_type": "stream",
     "text": [
      "C:\\Users\\trein\\Anaconda3\\lib\\site-packages\\IPython\\core\\interactiveshell.py:3058: DtypeWarning: Columns (3,7,8,9,10,11,19,20,21,22,26,34,37) have mixed types. Specify dtype option on import or set low_memory=False.\n",
      "  interactivity=interactivity, compiler=compiler, result=result)\n"
     ]
    }
   ],
   "source": [
    "# Load the pre-processed data retrieved from the ID search\n",
    "\n",
    "id_path = '../data/id_search' # Adjust file path\n",
    "all_files = glob.glob(id_path + \"/*.csv\") # Adjust file name\n",
    "li = []\n",
    "\n",
    "for filename in all_files:\n",
    "    frame = pd.read_csv(filename, index_col=None, header=0)\n",
    "    li.append(frame)\n",
    "    \n",
    "df = pd.concat(li, axis=0, ignore_index=True, sort=False)"
   ]
  },
  {
   "cell_type": "code",
   "execution_count": 6,
   "metadata": {},
   "outputs": [
    {
     "data": {
      "text/plain": [
       "['Authors',\n",
       " 'Author(s) ID',\n",
       " 'Title',\n",
       " 'Year',\n",
       " 'Source title',\n",
       " 'Volume',\n",
       " 'Issue',\n",
       " 'Art. No.',\n",
       " 'Page start',\n",
       " 'Page end',\n",
       " 'Page count',\n",
       " 'Cited by',\n",
       " 'DOI',\n",
       " 'Link',\n",
       " 'Affiliations',\n",
       " 'Authors with affiliations',\n",
       " 'Abstract',\n",
       " 'Author Keywords',\n",
       " 'Index Keywords',\n",
       " 'Molecular Sequence Numbers',\n",
       " 'Chemicals/CAS',\n",
       " 'Tradenames',\n",
       " 'Manufacturers',\n",
       " 'Funding Details',\n",
       " 'Funding Text 1',\n",
       " 'Funding Text 2',\n",
       " 'Funding Text 3',\n",
       " 'Funding Text 4',\n",
       " 'References',\n",
       " 'Correspondence Address',\n",
       " 'Editors',\n",
       " 'Sponsors',\n",
       " 'Publisher',\n",
       " 'Conference name',\n",
       " 'Conference date',\n",
       " 'Conference location',\n",
       " 'Conference code',\n",
       " 'ISSN',\n",
       " 'ISBN',\n",
       " 'CODEN',\n",
       " 'PubMed ID',\n",
       " 'Language of Original Document',\n",
       " 'Abbreviated Source Title',\n",
       " 'Document Type',\n",
       " 'Publication Stage',\n",
       " 'Open Access',\n",
       " 'Source',\n",
       " 'EID',\n",
       " 'Funding Text 5',\n",
       " 'Funding Text 6',\n",
       " 'Funding Text 7',\n",
       " 'Funding Text 8',\n",
       " 'Unnamed: 52',\n",
       " 'Unnamed: 53',\n",
       " 'Unnamed: 54',\n",
       " 'Unnamed: 55',\n",
       " 'Unnamed: 56',\n",
       " 'Unnamed: 57',\n",
       " 'Unnamed: 58',\n",
       " 'Unnamed: 59',\n",
       " ...]"
      ]
     },
     "execution_count": 6,
     "metadata": {},
     "output_type": "execute_result"
    }
   ],
   "source": [
    "list(df.columns)"
   ]
  },
  {
   "cell_type": "code",
   "execution_count": 7,
   "metadata": {},
   "outputs": [],
   "source": [
    "# Drop 'Unnamed: X' columns\n",
    "df = df[df.columns.drop(list(df.filter(regex='Unnamed')))]"
   ]
  },
  {
   "cell_type": "code",
   "execution_count": 8,
   "metadata": {},
   "outputs": [
    {
     "name": "stdout",
     "output_type": "stream",
     "text": [
      "(37869, 52)\n"
     ]
    },
    {
     "data": {
      "text/plain": [
       "Index(['Authors', 'Author(s) ID', 'Title', 'Year', 'Source title', 'Volume',\n",
       "       'Issue', 'Art. No.', 'Page start', 'Page end', 'Page count', 'Cited by',\n",
       "       'DOI', 'Link', 'Affiliations', 'Authors with affiliations', 'Abstract',\n",
       "       'Author Keywords', 'Index Keywords', 'Molecular Sequence Numbers',\n",
       "       'Chemicals/CAS', 'Tradenames', 'Manufacturers', 'Funding Details',\n",
       "       'Funding Text 1', 'Funding Text 2', 'Funding Text 3', 'Funding Text 4',\n",
       "       'Funding Text 5', 'Funding Text 6', 'Funding Text 7', 'Funding Text 8',\n",
       "       'References', 'Correspondence Address', 'Editors', 'Sponsors',\n",
       "       'Publisher', 'Conference name', 'Conference date',\n",
       "       'Conference location', 'Conference code', 'ISSN', 'ISBN', 'CODEN',\n",
       "       'PubMed ID', 'Language of Original Document',\n",
       "       'Abbreviated Source Title', 'Document Type', 'Publication Stage',\n",
       "       'Open Access', 'Source', 'EID'],\n",
       "      dtype='object')"
      ]
     },
     "execution_count": 8,
     "metadata": {},
     "output_type": "execute_result"
    }
   ],
   "source": [
    "# Reorder columns so \"Funding Text\" columns are together\n",
    "cols = ['Authors', 'Author(s) ID', 'Title', 'Year', 'Source title',\n",
    "        'Volume', 'Issue', 'Art. No.', 'Page start', 'Page end',\n",
    "        'Page count', 'Cited by', 'DOI', 'Link', 'Affiliations',\n",
    "        'Authors with affiliations', 'Abstract', 'Author Keywords',\n",
    "        'Index Keywords', 'Molecular Sequence Numbers', 'Chemicals/CAS',\n",
    "        'Tradenames', 'Manufacturers', 'Funding Details', 'Funding Text 1',\n",
    "        'Funding Text 2', 'Funding Text 3', 'Funding Text 4', 'Funding Text 5',\n",
    "        'Funding Text 6', 'Funding Text 7', 'Funding Text 8', 'References',\n",
    "        'Correspondence Address', 'Editors', 'Sponsors', 'Publisher',\n",
    "        'Conference name', 'Conference date', 'Conference location',\n",
    "        'Conference code', 'ISSN', 'ISBN', 'CODEN', 'PubMed ID',\n",
    "        'Language of Original Document', 'Abbreviated Source Title', 'Document Type',\n",
    "        'Publication Stage', 'Open Access', 'Source', 'EID']\n",
    "\n",
    "# Apply new column order to df\n",
    "df = df[cols]\n",
    "print(df.shape)\n",
    "df.columns"
   ]
  },
  {
   "cell_type": "markdown",
   "metadata": {},
   "source": [
    "## Initial data selection\n",
    "\n",
    "1. Drop articles with no data in title, abstract, or affiliations\n",
    "2. Drop duplicates\n",
    "3. Drop articles with invalid value for Year\n",
    "4. Drop articles written before 2015\n",
    "5. Drop non-English articles"
   ]
  },
  {
   "cell_type": "code",
   "execution_count": 9,
   "metadata": {},
   "outputs": [
    {
     "data": {
      "text/plain": [
       "(37494, 52)"
      ]
     },
     "execution_count": 9,
     "metadata": {},
     "output_type": "execute_result"
    }
   ],
   "source": [
    "# Drop articles with NaN in Title, Abstract, Affiliations\n",
    "df_1 = df.dropna(axis=0, subset=['Abstract', 'Title', 'Affiliations'])\n",
    "\n",
    "df_1.shape"
   ]
  },
  {
   "cell_type": "code",
   "execution_count": 10,
   "metadata": {},
   "outputs": [
    {
     "data": {
      "text/plain": [
       "(32471, 52)"
      ]
     },
     "execution_count": 10,
     "metadata": {},
     "output_type": "execute_result"
    }
   ],
   "source": [
    "# Drop articles that are duplicates of Title\n",
    "df_2 = df_1.drop_duplicates(subset=['Title']).reset_index(drop=True)\n",
    "df_2.shape"
   ]
  },
  {
   "cell_type": "code",
   "execution_count": 11,
   "metadata": {},
   "outputs": [
    {
     "name": "stdout",
     "output_type": "stream",
     "text": [
      "(32460, 52)\n"
     ]
    },
    {
     "data": {
      "text/plain": [
       "array([2021., 2020., 2019., 2018., 2017., 2016., 2015., 2014., 2013.,\n",
       "       2012., 2011., 2010., 2009., 2008., 2007., 2006., 2005., 2004.,\n",
       "       2003., 2002., 2001., 2000., 1999., 1998., 1997., 1996., 1995.,\n",
       "       1994., 1993., 1991., 1988., 1986., 1978., 1979., 1981., 1983.,\n",
       "       1985., 1987., 1989., 1990., 1992., 1984., 1980., 1982., 1977.,\n",
       "       1976.])"
      ]
     },
     "execution_count": 11,
     "metadata": {},
     "output_type": "execute_result"
    }
   ],
   "source": [
    "# Drop rows where Year is not a digit\n",
    "df_2['Year'] = pd.to_numeric(df_2['Year'], errors='coerce')\n",
    "df_3 = df_2.dropna(axis=0, subset=['Year'])\n",
    "print(df_3.shape)\n",
    "df_3['Year'].unique()"
   ]
  },
  {
   "cell_type": "code",
   "execution_count": 12,
   "metadata": {},
   "outputs": [
    {
     "data": {
      "text/plain": [
       "<matplotlib.axes._subplots.AxesSubplot at 0x17b2cfd3b48>"
      ]
     },
     "execution_count": 12,
     "metadata": {},
     "output_type": "execute_result"
    },
    {
     "data": {
      "image/png": "[encoded data removed]",
      "text/plain": [
       "<Figure size 432x288 with 1 Axes>"
      ]
     },
     "metadata": {
      "needs_background": "light"
     },
     "output_type": "display_data"
    }
   ],
   "source": [
    "sns.lineplot(data=df_3.groupby('Year').count()['Title'])"
   ]
  },
  {
   "cell_type": "code",
   "execution_count": 13,
   "metadata": {},
   "outputs": [
    {
     "name": "stdout",
     "output_type": "stream",
     "text": [
      "(14135, 52)\n"
     ]
    },
    {
     "data": {
      "text/plain": [
       "array([2021., 2020., 2019., 2018., 2017., 2016., 2015.])"
      ]
     },
     "execution_count": 13,
     "metadata": {},
     "output_type": "execute_result"
    }
   ],
   "source": [
    "# Select articles written after 2015\n",
    "df_4 = df_3[df_3['Year'] >= 2015]\n",
    "print(df_4.shape)\n",
    "df_4['Year'].unique()"
   ]
  },
  {
   "cell_type": "code",
   "execution_count": 14,
   "metadata": {},
   "outputs": [
    {
     "name": "stdout",
     "output_type": "stream",
     "text": [
      "(14020, 52)\n"
     ]
    },
    {
     "data": {
      "text/plain": [
       "array(['English', 'English; German', 'English; Chinese',\n",
       "       'English; Italian', 'English; Portuguese'], dtype=object)"
      ]
     },
     "execution_count": 14,
     "metadata": {},
     "output_type": "execute_result"
    }
   ],
   "source": [
    "# Select articles written in English\n",
    "df_4 = df_4.dropna(axis=0, subset=['Language of Original Document'])\n",
    "df_5 = df_4[df_4['Language of Original Document'].str.contains('English')].reset_index(drop=True)\n",
    "print(df_5.shape)\n",
    "df_5['Language of Original Document'].unique()"
   ]
  },
  {
   "cell_type": "markdown",
   "metadata": {},
   "source": [
    "# Secondary data selection\n",
    "\n",
    "1. Filter articles based on keyword search\n",
    "2. Classify articles as industry or non-industry affiliated"
   ]
  },
  {
   "cell_type": "code",
   "execution_count": 15,
   "metadata": {},
   "outputs": [],
   "source": [
    "# Create list of AI ethics keywords to query dataset\n",
    "ethics_regex = ('accountab[a-z]*|safety|ethic[a-z]*|bias[a-z]*|business model|explaina[a-z]*|fair\b|fairness|privacy|secur[a-z]*|sustainab[a-z]*|regulation|legislation|transparen[a-z]*')"
   ]
  },
  {
   "cell_type": "code",
   "execution_count": 16,
   "metadata": {},
   "outputs": [
    {
     "data": {
      "text/plain": [
       "(3340, 52)"
      ]
     },
     "execution_count": 16,
     "metadata": {},
     "output_type": "execute_result"
    }
   ],
   "source": [
    "# Select the rows that match the AI ethics keywords in Title, Abstract, or Author Keywords column\n",
    "mask = df_5[['Title', 'Abstract', 'Author Keywords']].apply(lambda x: x.str.contains(ethics_regex, regex=True, flags=re.IGNORECASE))\n",
    "df_6 = df_5[mask.any(axis=1)]\n",
    "df_6.shape"
   ]
  },
  {
   "cell_type": "code",
   "execution_count": 17,
   "metadata": {},
   "outputs": [],
   "source": [
    "# Load AIES, FATML, and FAccT publications\n",
    "conf_path = \"../data/conference\"\n",
    "all_files = glob.glob(conf_path + \"/*.csv\")\n",
    "li = []\n",
    "\n",
    "for filename in all_files:\n",
    "    frame = pd.read_csv(filename, index_col=None, header=0)\n",
    "    li.append(frame)\n",
    "    \n",
    "df_conf = pd.concat(li, axis=0, ignore_index=True, sort=False)"
   ]
  },
  {
   "cell_type": "code",
   "execution_count": 18,
   "metadata": {},
   "outputs": [
    {
     "name": "stdout",
     "output_type": "stream",
     "text": [
      "(363, 452)\n"
     ]
    },
    {
     "data": {
      "text/plain": [
       "array([2021., 2020., 2019., 2018.])"
      ]
     },
     "execution_count": 18,
     "metadata": {},
     "output_type": "execute_result"
    }
   ],
   "source": [
    "# Remove articles without Title, affiliations, or abstracts\n",
    "df_conf = df_conf.dropna(axis=0, subset=['Abstract', 'Title', 'Author Keywords', 'Authors', 'Author(s) ID'])\n",
    "\n",
    "# Drop articles that are duplicates of Title\n",
    "df_conf = df_conf.drop_duplicates(subset=['Title']).reset_index(drop=True)\n",
    "\n",
    "# Drop rows where Year is not a digit\n",
    "df_conf['Year'] = pd.to_numeric(df_2['Year'], errors='coerce')\n",
    "df_conf = df_conf.dropna(axis=0, subset=['Year'])\n",
    "print(df_conf.shape)\n",
    "df_conf['Year'].unique()"
   ]
  },
  {
   "cell_type": "code",
   "execution_count": 20,
   "metadata": {},
   "outputs": [
    {
     "data": {
      "text/plain": [
       "['Authors',\n",
       " 'Author(s) ID',\n",
       " 'Title',\n",
       " 'Year',\n",
       " 'Source title',\n",
       " 'Volume',\n",
       " 'Issue',\n",
       " 'Art. No.',\n",
       " 'Page start',\n",
       " 'Page end',\n",
       " 'Page count',\n",
       " 'Cited by',\n",
       " 'DOI',\n",
       " 'Link',\n",
       " 'Affiliations',\n",
       " 'Authors with affiliations',\n",
       " 'Abstract',\n",
       " 'Author Keywords',\n",
       " 'Index Keywords',\n",
       " 'Molecular Sequence Numbers',\n",
       " 'Chemicals/CAS',\n",
       " 'Tradenames',\n",
       " 'Manufacturers',\n",
       " 'Funding Details',\n",
       " 'Funding Text 1',\n",
       " 'Funding Text 2',\n",
       " 'References',\n",
       " 'Correspondence Address',\n",
       " 'Editors',\n",
       " 'Sponsors',\n",
       " 'Publisher',\n",
       " 'Conference name',\n",
       " 'Conference date',\n",
       " 'Conference location',\n",
       " 'Conference code',\n",
       " 'ISSN',\n",
       " 'ISBN',\n",
       " 'CODEN',\n",
       " 'PubMed ID',\n",
       " 'Language of Original Document',\n",
       " 'Abbreviated Source Title',\n",
       " 'Document Type',\n",
       " 'Publication Stage',\n",
       " 'Open Access',\n",
       " 'Source',\n",
       " 'EID',\n",
       " 'Unnamed: 46',\n",
       " 'Unnamed: 47',\n",
       " 'Unnamed: 48',\n",
       " 'Unnamed: 49',\n",
       " 'Unnamed: 50',\n",
       " 'Unnamed: 51',\n",
       " 'Unnamed: 52',\n",
       " 'Unnamed: 53',\n",
       " 'Unnamed: 54',\n",
       " 'Unnamed: 55',\n",
       " 'Unnamed: 56',\n",
       " 'Unnamed: 57',\n",
       " 'Unnamed: 58',\n",
       " 'Unnamed: 59',\n",
       " ...]"
      ]
     },
     "execution_count": 20,
     "metadata": {},
     "output_type": "execute_result"
    }
   ],
   "source": [
    "list(df_conf.columns)"
   ]
  },
  {
   "cell_type": "code",
   "execution_count": 21,
   "metadata": {},
   "outputs": [],
   "source": [
    "# Drop 'Unnamed: X' columns\n",
    "df_conf = df_conf[df_conf.columns.drop(list(df_conf.filter(regex='Unnamed')))]"
   ]
  },
  {
   "cell_type": "code",
   "execution_count": 22,
   "metadata": {},
   "outputs": [
    {
     "data": {
      "text/plain": [
       "['Authors',\n",
       " 'Author(s) ID',\n",
       " 'Title',\n",
       " 'Year',\n",
       " 'Source title',\n",
       " 'Volume',\n",
       " 'Issue',\n",
       " 'Art. No.',\n",
       " 'Page start',\n",
       " 'Page end',\n",
       " 'Page count',\n",
       " 'Cited by',\n",
       " 'DOI',\n",
       " 'Link',\n",
       " 'Affiliations',\n",
       " 'Authors with affiliations',\n",
       " 'Abstract',\n",
       " 'Author Keywords',\n",
       " 'Index Keywords',\n",
       " 'Molecular Sequence Numbers',\n",
       " 'Chemicals/CAS',\n",
       " 'Tradenames',\n",
       " 'Manufacturers',\n",
       " 'Funding Details',\n",
       " 'Funding Text 1',\n",
       " 'Funding Text 2',\n",
       " 'References',\n",
       " 'Correspondence Address',\n",
       " 'Editors',\n",
       " 'Sponsors',\n",
       " 'Publisher',\n",
       " 'Conference name',\n",
       " 'Conference date',\n",
       " 'Conference location',\n",
       " 'Conference code',\n",
       " 'ISSN',\n",
       " 'ISBN',\n",
       " 'CODEN',\n",
       " 'PubMed ID',\n",
       " 'Language of Original Document',\n",
       " 'Abbreviated Source Title',\n",
       " 'Document Type',\n",
       " 'Publication Stage',\n",
       " 'Open Access',\n",
       " 'Source',\n",
       " 'EID']"
      ]
     },
     "execution_count": 22,
     "metadata": {},
     "output_type": "execute_result"
    }
   ],
   "source": [
    "list(df_conf.columns)"
   ]
  },
  {
   "cell_type": "code",
   "execution_count": 23,
   "metadata": {},
   "outputs": [
    {
     "data": {
      "text/plain": [
       "(3408, 47)"
      ]
     },
     "execution_count": 23,
     "metadata": {},
     "output_type": "execute_result"
    }
   ],
   "source": [
    "# Concatenate the articles published in AI ethics conferences and those identified in keyword search\n",
    "df_full = pd.concat([df_6, df_conf], axis=0, ignore_index=True, sort=False)\n",
    "\n",
    "# Funding Text 4 - 8 columns are empty, so drop them\n",
    "df_full = df_full.drop(columns=['Funding Text 4', 'Funding Text 5', 'Funding Text 6', 'Funding Text 7', 'Funding Text 8'])\n",
    "\n",
    "# Drop title duplicates\n",
    "df_full = df_full.drop_duplicates(subset=['Title']).reset_index(drop=True)\n",
    "df_full.shape"
   ]
  },
  {
   "cell_type": "markdown",
   "metadata": {},
   "source": [
    "## Categorise articles by industry affiliation"
   ]
  },
  {
   "cell_type": "code",
   "execution_count": 24,
   "metadata": {},
   "outputs": [],
   "source": [
    "# Create a regex for industry-affiliation\n",
    "industry_regex = ('Accenture|Alibaba|Amazon|\\bAWS\\b|Apple|Booz Allen|Bosch|DeepMind|Facebook|Google|Huawei|IBM|Intel\\b|Jigsaw|Microsoft|Nvidia|OpenAI|Partnership on AI|Upturn|Salesforce|Samsung|SAP|Tata\\b|Tencent|Uber|Vector Institute')"
   ]
  },
  {
   "cell_type": "code",
   "execution_count": 26,
   "metadata": {},
   "outputs": [
    {
     "data": {
      "text/plain": [
       "(591, 47)"
      ]
     },
     "execution_count": 26,
     "metadata": {},
     "output_type": "execute_result"
    }
   ],
   "source": [
    "# Select the rows that have industry names in Affiliations, Funding Text columns\n",
    "mask = df_full[['Affiliations', 'Funding Text 1', 'Funding Text 2', 'Funding Text 3']].apply(lambda x: x.str.contains(industry_regex, regex=True))\n",
    "df_industry = df_full[mask.any(axis=1)]\n",
    "df_industry.shape"
   ]
  },
  {
   "cell_type": "code",
   "execution_count": 27,
   "metadata": {},
   "outputs": [
    {
     "data": {
      "text/plain": [
       "(2817, 47)"
      ]
     },
     "execution_count": 27,
     "metadata": {},
     "output_type": "execute_result"
    }
   ],
   "source": [
    "# Select articles that do not have industry names in Affiliations or Funding Text columns\n",
    "df_academia = df_full[~mask.any(axis=1)]\n",
    "df_academia.shape"
   ]
  },
  {
   "cell_type": "code",
   "execution_count": 57,
   "metadata": {},
   "outputs": [],
   "source": [
    "# Save dataframes to CSV for manual review and VOSviewer analysis\n",
    "df_industry.to_csv(os.path.join('../data/ready for analysis', 'scopus_industry_17.06.2021.csv'), encoding='utf-8-sig')\n",
    "df_academia.to_csv(os.path.join('../data/ready for analysis', 'scopus_academia_17.06.2021.csv'), encoding='utf-8-sig')"
   ]
  }
 ],
 "metadata": {
  "kernelspec": {
   "display_name": "Python 3",
   "language": "python",
   "name": "python3"
  },
  "language_info": {
   "codemirror_mode": {
    "name": "ipython",
    "version": 3
   },
   "file_extension": ".py",
   "mimetype": "text/x-python",
   "name": "python",
   "nbconvert_exporter": "python",
   "pygments_lexer": "ipython3",
   "version": "3.7.4"
  }
 },
 "nbformat": 4,
 "nbformat_minor": 2
}
